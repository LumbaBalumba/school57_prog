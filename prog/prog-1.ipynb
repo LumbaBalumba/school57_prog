{
 "cells": [
  {
   "cell_type": "markdown",
   "source": [
    "Новое ключевое слово - yield. При использовании этого слова функция возвращает значение, но не прекращает работу. Таким образом, мы получаем объект, который может возвращать нам много значений по очереди (как, например, range или zip). Такие объекты называются генераторами."
   ],
   "metadata": {
    "collapsed": false
   },
   "id": "7c13263a6a526c62"
  },
  {
   "cell_type": "code",
   "execution_count": null,
   "outputs": [],
   "source": [
    "def fact(n: int):\n",
    "    yield 1\n",
    "    res = 1\n",
    "    for i in range(1, n + 1):\n",
    "        res *= i\n",
    "        yield res\n",
    "\n",
    "\n",
    "for i in fact(5):\n",
    "    print(i)"
   ],
   "metadata": {
    "collapsed": false
   },
   "id": "b85fbbfc8704721d"
  },
  {
   "cell_type": "code",
   "execution_count": null,
   "outputs": [],
   "source": [
    "def fib(n):\n",
    "    yield 0\n",
    "    yield 1\n",
    "    a = 0\n",
    "    b = 1\n",
    "    for i in range(n - 2):\n",
    "        if a > b:\n",
    "            b += a\n",
    "            yield b\n",
    "        else:\n",
    "            a += b\n",
    "            yield a\n",
    "\n",
    "\n",
    "for i in fib(10):\n",
    "    print(i)"
   ],
   "metadata": {
    "collapsed": false
   },
   "id": "97838732d6bc61dd"
  },
  {
   "cell_type": "code",
   "execution_count": null,
   "outputs": [],
   "source": [
    "def my_range(left, right, step=1):\n",
    "    res = left\n",
    "    while res < right:\n",
    "        yield res\n",
    "        res += step"
   ],
   "metadata": {
    "collapsed": false
   },
   "id": "69fcc40a88d4578"
  }
 ],
 "metadata": {
  "kernelspec": {
   "display_name": "Python 3",
   "language": "python",
   "name": "python3"
  },
  "language_info": {
   "codemirror_mode": {
    "name": "ipython",
    "version": 2
   },
   "file_extension": ".py",
   "mimetype": "text/x-python",
   "name": "python",
   "nbconvert_exporter": "python",
   "pygments_lexer": "ipython2",
   "version": "2.7.6"
  }
 },
 "nbformat": 4,
 "nbformat_minor": 5
}
