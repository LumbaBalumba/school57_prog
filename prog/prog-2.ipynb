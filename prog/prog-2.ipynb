{
 "cells": [
  {
   "cell_type": "markdown",
   "source": [
    "Объектно ориентированное программирование\n",
    "\n",
    "Основные приципы:\n",
    "\n",
    "1) Инкапсуляция (детали реализации скрыты от пользователя)\n",
    "2) Наследование (Класс-потомок может использовать и модифицировать атрибуты и методы класса-родителя)\n",
    "3) Полиморфизм (Способность функции обрабатывать данные разных типов/классов благодаря наличию аналогичных методов)"
   ],
   "metadata": {
    "collapsed": false
   },
   "id": "759f02aedbed29c1"
  },
  {
   "cell_type": "code",
   "execution_count": 3,
   "outputs": [
    {
     "name": "stdout",
     "output_type": "stream",
     "text": [
      "3\n",
      "5\n",
      "1 2\n"
     ]
    }
   ],
   "source": [
    "class A:\n",
    "    a: int  #Атрибуты объекта\n",
    "    b: int\n",
    "\n",
    "    def __init__(self, a, b):  #Инициализирующий метод\n",
    "        self.a = a  #Ключевое слово self - обращение к объекту\n",
    "        self.b = b\n",
    "\n",
    "    def __str__(self):  #Стандартный метод преобразования к строке\n",
    "        return f\"{self.a} {self.b}\"\n",
    "\n",
    "    def method(self):\n",
    "        print(self.a + self.b)\n",
    "\n",
    "\n",
    "object1 = A(1, 2) #Создание объекта класса\n",
    "object2 = A(2, 3)\n",
    "\n",
    "object1.method()  #Вызов метода объекта\n",
    "object2.method()\n",
    "\n",
    "print(object1)  #То, как видим это мы\n",
    "print(object1.__str__())  #То, как видит это Python"
   ],
   "metadata": {
    "collapsed": false
   },
   "id": "7628c838a797431"
  },
  {
   "cell_type": "code",
   "execution_count": null,
   "outputs": [],
   "source": [
    "def gcd(n, m):\n",
    "    while n * m > 0:\n",
    "        if n > m:\n",
    "            n %= m\n",
    "        else:\n",
    "            m %= n\n",
    "    return m + n\n",
    "\n",
    "\n",
    "class Rational:\n",
    "    numerator: int\n",
    "    denominator: int\n",
    "\n",
    "    def __init__(self, n, m=1):\n",
    "        self.numerator = n\n",
    "        self.denominator = m\n",
    "\n",
    "    def __str__(self):\n",
    "        return f\"{self.numerator}/{self.denominator}\"\n",
    "\n",
    "    def __add__(self, other):\n",
    "        res = Rational(self.numerator * other.denominator + self.denominator * other.numerator,\n",
    "                       self.denominator * other.denominator)\n",
    "        res.normalize()\n",
    "        return res\n",
    "\n",
    "    def normalize(self):\n",
    "        a = gcd(self.numerator, self.denominator)\n",
    "        self.numerator /= a\n",
    "        self.denominator /= a\n",
    "\n",
    "#Доделать\n"
   ],
   "metadata": {
    "collapsed": false
   },
   "id": "bf7297436a753aed"
  }
 ],
 "metadata": {
  "kernelspec": {
   "display_name": "Python 3",
   "language": "python",
   "name": "python3"
  },
  "language_info": {
   "codemirror_mode": {
    "name": "ipython",
    "version": 2
   },
   "file_extension": ".py",
   "mimetype": "text/x-python",
   "name": "python",
   "nbconvert_exporter": "python",
   "pygments_lexer": "ipython2",
   "version": "2.7.6"
  }
 },
 "nbformat": 4,
 "nbformat_minor": 5
}
