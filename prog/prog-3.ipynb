{
 "cells": [
  {
   "cell_type": "code",
   "execution_count": 1,
   "id": "initial_id",
   "metadata": {
    "collapsed": true,
    "ExecuteTime": {
     "end_time": "2023-09-23T06:14:12.306918757Z",
     "start_time": "2023-09-23T06:14:12.280690609Z"
    }
   },
   "outputs": [
    {
     "name": "stdout",
     "output_type": "stream",
     "text": [
      "7\n"
     ]
    }
   ],
   "source": [
    "import math\n",
    "\n",
    "\n",
    "class A:\n",
    "    x: float\n",
    "    y: float\n",
    "\n",
    "    def __init__(self, x, y):\n",
    "        self.x = x\n",
    "        self.y = y\n",
    "\n",
    "    def func(self):\n",
    "        return self.x + self.y\n",
    "\n",
    "\n",
    "a = A(2, 5)\n",
    "print(a.func())\n"
   ]
  },
  {
   "cell_type": "code",
   "execution_count": null,
   "outputs": [],
   "source": [
    "class ArType:\n",
    "    x: float\n",
    "\n",
    "    def __init__(self, x):\n",
    "        self.x = x\n",
    "\n",
    "\n",
    "def artype_add(a: ArType, b: ArType) -> ArType:\n",
    "    return ArType(a.x + b.x)"
   ],
   "metadata": {
    "collapsed": false
   },
   "id": "fe7524380320687f"
  },
  {
   "cell_type": "code",
   "execution_count": 6,
   "outputs": [
    {
     "name": "stdout",
     "output_type": "stream",
     "text": [
      "abcdef\n"
     ]
    }
   ],
   "source": [
    "class ArType2:\n",
    "    x: int\n",
    "    y: str\n",
    "\n",
    "    def __init__(self, string):\n",
    "        self.y = string\n",
    "        self.x = len(string)\n",
    "\n",
    "    def __add__(self, other):\n",
    "        return ArType2(self.y + other.y)\n",
    "\n",
    "    def __str__(self):\n",
    "        return self.y\n",
    "\n",
    "\n",
    "obj1 = ArType2('abc')\n",
    "obj2 = ArType2('def')\n",
    "obj3 = obj1.__add__(obj2)\n",
    "print(obj3)"
   ],
   "metadata": {
    "collapsed": false,
    "ExecuteTime": {
     "end_time": "2023-09-23T06:27:54.760632897Z",
     "start_time": "2023-09-23T06:27:54.731952147Z"
    }
   },
   "id": "1e507e83aea301ed"
  },
  {
   "cell_type": "code",
   "execution_count": 12,
   "outputs": [
    {
     "name": "stdout",
     "output_type": "stream",
     "text": [
      "b a\n",
      "1\n"
     ]
    }
   ],
   "source": [
    "class A:\n",
    "    a: str\n",
    "\n",
    "    def __init__(self, string):\n",
    "        self.a = string\n",
    "\n",
    "    def log(self):\n",
    "        print(self.a)\n",
    "\n",
    "\n",
    "class B(A):\n",
    "    b: str\n",
    "\n",
    "    def __init__(self, a, b):\n",
    "        self.b = b\n",
    "        super().__init__(a)\n",
    "\n",
    "    def log(self):\n",
    "        print(f'{self.b} {self.a}')\n",
    "\n",
    "    def __len__(self):\n",
    "        return len(self.b)\n",
    "\n",
    "\n",
    "obj = B('a', 'b')\n",
    "obj.log()\n",
    "print(len(obj))"
   ],
   "metadata": {
    "collapsed": false,
    "ExecuteTime": {
     "end_time": "2023-09-23T06:39:48.116545008Z",
     "start_time": "2023-09-23T06:39:48.073709599Z"
    }
   },
   "id": "262ce6b99291cf87"
  },
  {
   "cell_type": "code",
   "execution_count": null,
   "outputs": [],
   "source": [
    "class Figure:\n",
    "    def square(self):\n",
    "        return 0\n",
    "\n",
    "    def perimeter(self):\n",
    "        return 0\n",
    "\n",
    "\n",
    "class Circle(Figure):\n",
    "    r: float\n",
    "\n",
    "    def __init__(self, r):\n",
    "        self.r = r\n",
    "\n",
    "    def perimeter(self):\n",
    "        return 2 * math.pi * self.r\n",
    "\n",
    "    def square(self):\n",
    "        return math.pi * self.r * self.r\n",
    "\n",
    "\n",
    "class Rectangle(Figure):\n",
    "    a: float\n",
    "    b: float\n",
    "\n",
    "    def __init__(self, a, b):\n",
    "        self.a = a\n",
    "        self.b = b\n",
    "\n",
    "    def perimeter(self):\n",
    "        return 2 * (self.a + self.b)\n",
    "\n",
    "    def square(self):\n",
    "        return self.a * self.b\n",
    "\n",
    "\n",
    "class Square(Rectangle):\n",
    "\n",
    "    def __init__(self, a):\n",
    "        super().__init__(a, a)\n",
    "\n",
    "    def perimeter(self):\n",
    "        return super().perimeter()\n",
    "\n",
    "    def square(self):\n",
    "        return super().square()\n",
    "\n",
    "\n",
    "def compare_figures(fig1: Figure, fig2: Figure):\n",
    "    return fig1.square() > fig2.square()"
   ],
   "metadata": {
    "collapsed": false
   },
   "id": "24dec715d12f0790"
  }
 ],
 "metadata": {
  "kernelspec": {
   "display_name": "Python 3",
   "language": "python",
   "name": "python3"
  },
  "language_info": {
   "codemirror_mode": {
    "name": "ipython",
    "version": 2
   },
   "file_extension": ".py",
   "mimetype": "text/x-python",
   "name": "python",
   "nbconvert_exporter": "python",
   "pygments_lexer": "ipython2",
   "version": "2.7.6"
  }
 },
 "nbformat": 4,
 "nbformat_minor": 5
}
