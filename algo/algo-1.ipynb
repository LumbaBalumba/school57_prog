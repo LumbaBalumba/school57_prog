{
 "cells": [
  {
   "cell_type": "code",
   "execution_count": null,
   "id": "initial_id",
   "metadata": {
    "collapsed": true
   },
   "outputs": [],
   "source": [
    "def fib(n: int) -> int:\n",
    "    if n == 1:\n",
    "        return 0\n",
    "    elif n == 2:\n",
    "        return 1\n",
    "    else:\n",
    "        return fib(n - 1) + fib(n - 2)\n",
    "\n",
    "\n",
    "print(fib(int(input())))"
   ]
  },
  {
   "cell_type": "code",
   "execution_count": null,
   "outputs": [],
   "source": [
    "n = int(input())\n",
    "L = [0, 1]\n",
    "if n > 2:\n",
    "    for i in range(n - 2):\n",
    "        L.append(L[-1] + L[-2])\n",
    "print(L[-1])"
   ],
   "metadata": {
    "collapsed": false
   },
   "id": "4fa2ee457d1f00e8"
  },
  {
   "cell_type": "code",
   "execution_count": null,
   "outputs": [],
   "source": [
    "def money(n: int) -> int:\n",
    "    if n == 1 or n == 3 or n == 4:\n",
    "        return 1\n",
    "    elif n == 2:\n",
    "        return 2\n",
    "    else:\n",
    "        return min(money(n - 1), money(n - 3), money(n - 4)) + 1\n",
    "\n",
    "\n",
    "print(money(int(input())))"
   ],
   "metadata": {
    "collapsed": false
   },
   "id": "4f0cedc734719adf"
  },
  {
   "cell_type": "code",
   "execution_count": 3,
   "outputs": [
    {
     "name": "stdout",
     "output_type": "stream",
     "text": [
      "3\n"
     ]
    }
   ],
   "source": [
    "def calc(n: int) -> (int, list[int]):\n",
    "    def sort_key(elem):\n",
    "        return elem[0]\n",
    "\n",
    "    if n == 1:\n",
    "        return 0, [1, ]\n",
    "    elif n % 6 == 0:\n",
    "        calc3 = calc(n // 3)\n",
    "        calc2 = calc(n // 2)\n",
    "        calc1 = calc(n - 1)\n",
    "        tmp = sorted([calc1, calc2, calc3], key=sort_key)\n",
    "        tmp[0][1].append(n)\n",
    "        tmp[0][0] += 1\n",
    "        return tmp[0]\n",
    "    elif n % 3 == 0:\n",
    "        calc3 = calc(n // 3)\n",
    "        calc1 = calc(n - 1)\n",
    "        tmp = sorted([calc1, calc3], key=sort_key)\n",
    "        tmp[0][1].append(n)\n",
    "        tmp[0][0] += 1\n",
    "        return tmp[0]\n",
    "    elif n % 2 == 0:\n",
    "        calc2 = calc(n // 2)\n",
    "        calc1 = calc(n - 1)\n",
    "        tmp = sorted([calc1, calc2], key=sort_key)\n",
    "        tmp[0][1].append(n)\n",
    "        tmp[0][0] += 1\n",
    "        return tmp[0]\n",
    "    else:\n",
    "        calc1 = calc(n - 1)\n",
    "        calc1[0] += 1\n",
    "        calc1[1].append(n)\n",
    "        return calc1\n",
    "\n",
    "\n",
    "print(calc(int(input())))"
   ],
   "metadata": {
    "collapsed": false,
    "ExecuteTime": {
     "end_time": "2023-09-13T07:31:49.899365912Z",
     "start_time": "2023-09-13T07:31:47.686581002Z"
    }
   },
   "id": "ad0662481c089464"
  },
  {
   "cell_type": "code",
   "execution_count": 4,
   "outputs": [
    {
     "name": "stdout",
     "output_type": "stream",
     "text": [
      "1\n",
      "1\n",
      "2\n",
      "6\n",
      "24\n",
      "120\n"
     ]
    }
   ],
   "source": [
    "def fact(n: int):\n",
    "    yield 1\n",
    "    res = 1\n",
    "    for i in range(1, n + 1):\n",
    "        res *= i\n",
    "        yield res\n",
    "\n",
    "\n",
    "for i in fact(5):\n",
    "    print(i)"
   ],
   "metadata": {
    "collapsed": false,
    "ExecuteTime": {
     "end_time": "2023-09-13T08:09:32.289032425Z",
     "start_time": "2023-09-13T08:09:32.268382949Z"
    }
   },
   "id": "e9ae0645628a01d7"
  },
  {
   "cell_type": "code",
   "execution_count": 1,
   "outputs": [
    {
     "name": "stdout",
     "output_type": "stream",
     "text": [
      "0\n",
      "1\n",
      "1\n",
      "2\n",
      "3\n",
      "5\n",
      "8\n",
      "13\n",
      "21\n",
      "34\n"
     ]
    }
   ],
   "source": [
    "def fib(n):\n",
    "    yield 0\n",
    "    yield 1\n",
    "    a = 0\n",
    "    b = 1\n",
    "    for i in range(n - 2):\n",
    "        if a > b:\n",
    "            b += a\n",
    "            yield b\n",
    "        else:\n",
    "            a += b\n",
    "            yield a\n",
    "\n",
    "\n",
    "for i in fib(10):\n",
    "    print(i)"
   ],
   "metadata": {
    "collapsed": false,
    "ExecuteTime": {
     "end_time": "2023-09-13T08:13:20.021678306Z",
     "start_time": "2023-09-13T08:13:20.015729691Z"
    }
   },
   "id": "21545c00bc9091b4"
  },
  {
   "cell_type": "code",
   "execution_count": null,
   "outputs": [],
   "source": [
    "def my_range(left, right, step=1):\n",
    "    res = left\n",
    "    while res < right:\n",
    "        yield res\n",
    "        res += step"
   ],
   "metadata": {
    "collapsed": false
   },
   "id": "9a574dedb20813e8"
  },
  {
   "cell_type": "code",
   "execution_count": null,
   "outputs": [],
   "source": [
    "x = 1\n",
    "\n",
    "\n",
    "def f(x, y):\n",
    "    pass"
   ],
   "metadata": {
    "collapsed": false
   },
   "id": "87a61f1a60252bee"
  },
  {
   "cell_type": "code",
   "execution_count": 3,
   "outputs": [
    {
     "name": "stdout",
     "output_type": "stream",
     "text": [
      "3\n",
      "5\n",
      "1 2\n"
     ]
    }
   ],
   "source": [
    "class A:\n",
    "    a: int\n",
    "    b: int\n",
    "\n",
    "    def __init__(self, a, b):\n",
    "        self.a = a\n",
    "        self.b = b\n",
    "\n",
    "    def __str__(self):\n",
    "        return f\"{self.a} {self.b}\"\n",
    "\n",
    "    def method(self):\n",
    "        print(self.a + self.b)\n",
    "\n",
    "\n",
    "object1 = A(1, 2)\n",
    "object2 = A(2, 3)\n",
    "\n",
    "object1.method()\n",
    "object2.method()\n",
    "\n",
    "print(object1)"
   ],
   "metadata": {
    "collapsed": false,
    "ExecuteTime": {
     "end_time": "2023-09-13T09:29:09.372788802Z",
     "start_time": "2023-09-13T09:29:09.343816756Z"
    }
   },
   "id": "b7ddc3412e0592b9"
  },
  {
   "cell_type": "code",
   "execution_count": null,
   "outputs": [],
   "source": [
    "def GCD(n, m):\n",
    "    while n * m > 0:\n",
    "        if n > m:\n",
    "            n %= m\n",
    "        else:\n",
    "            m %= n\n",
    "    return m + n\n",
    "\n",
    "\n",
    "class Rational:\n",
    "    numerator: int\n",
    "    denominator: int\n",
    "\n",
    "    def __init__(self, n, m=1):\n",
    "        self.numerator = n\n",
    "        self.denominator = m\n",
    "\n",
    "    def __str__(self):\n",
    "        return f\"{self.numerator}/{self.denominator}\"\n",
    "\n",
    "    def __add__(self, other):\n",
    "        return Rational(self.numerator * other.denominator + self.denominator * other.numerator,\n",
    "                        self.denominator * other.denominator)\n",
    "\n",
    "    def normalize(self):\n",
    "        pass\n",
    "\n",
    "\n",
    "print(GCD(6, 15))\n",
    "\n",
    "\n"
   ],
   "metadata": {
    "collapsed": false,
    "is_executing": true,
    "ExecuteTime": {
     "start_time": "2023-09-13T09:43:12.179833915Z"
    }
   },
   "id": "83997cc5e9480880"
  },
  {
   "cell_type": "code",
   "execution_count": null,
   "outputs": [],
   "source": [],
   "metadata": {
    "collapsed": false
   },
   "id": "8981412d9b21b1ac"
  }
 ],
 "metadata": {
  "kernelspec": {
   "display_name": "Python 3",
   "language": "python",
   "name": "python3"
  },
  "language_info": {
   "codemirror_mode": {
    "name": "ipython",
    "version": 2
   },
   "file_extension": ".py",
   "mimetype": "text/x-python",
   "name": "python",
   "nbconvert_exporter": "python",
   "pygments_lexer": "ipython2",
   "version": "2.7.6"
  }
 },
 "nbformat": 4,
 "nbformat_minor": 5
}
