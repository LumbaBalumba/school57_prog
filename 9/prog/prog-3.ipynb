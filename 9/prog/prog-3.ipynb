{
 "cells": [
  {
   "cell_type": "markdown",
   "source": [
    "На прошлом занятии мы узнали, что такое классы, и научились их создавать. Мы также столкнулись с тем, что при создании похожих классов появляется дублирование кода. В ООП для создания новых классов на основе других применяется принцип наследования.\n",
    "\n",
    "Наследование позволяет при создании нового класса указать для него базовый класс. От базового класса наследуется вся его структура — атрибуты и методы. Созданный класс-наследник называется производным классом.\n",
    "\n",
    "Покажем принцип наследования на примере."
   ],
   "metadata": {
    "collapsed": false
   },
   "id": "deceb559e0923abd"
  },
  {
   "cell_type": "code",
   "execution_count": null,
   "outputs": [],
   "source": [
    "import math\n",
    "\n",
    "\n",
    "class Figure:  #создание абстрактного класса геометрической фигуры с методами площади и периметра\n",
    "    def square(self):\n",
    "        return 0\n",
    "\n",
    "    def perimeter(self):\n",
    "        return 0\n",
    "\n",
    "\n",
    "class Circle(Figure):  #класс круга с переопределением стандартных методов\n",
    "    r: float\n",
    "\n",
    "    def __init__(self, r):\n",
    "        self.r = r\n",
    "\n",
    "    def perimeter(self):\n",
    "        return 2 * math.pi * self.r\n",
    "\n",
    "    def square(self):\n",
    "        return math.pi * self.r * self.r\n",
    "\n",
    "\n",
    "class Rectangle(Figure):  #аналогично создаём класс прямоугольника\n",
    "    a: float\n",
    "    b: float\n",
    "\n",
    "    def __init__(self, a, b):\n",
    "        self.a = a\n",
    "        self.b = b\n",
    "\n",
    "    def perimeter(self):\n",
    "        return 2 * (self.a + self.b)\n",
    "\n",
    "    def square(self):\n",
    "        return self.a * self.b\n",
    "\n",
    "\n",
    "class Square(Rectangle):  #наследуем от класса прямоугольника класс квадрата\n",
    "\n",
    "    def __init__(self, a):\n",
    "        super().__init__(a,\n",
    "                         a)  #при наследовании необходимо инициализировать класс-родитель. Доступ к классу-родителю осуществляется через ключевое слово  super()\n",
    "\n",
    "    def perimeter(self):  #а здесь используем метод класса-родителя\n",
    "        return super().perimeter()\n",
    "\n",
    "    def square(self):\n",
    "        return super().square()\n",
    "\n",
    "\n",
    "def compare_figures(fig1: Figure, fig2: Figure):\n",
    "    return fig1.square() > fig2.square()"
   ],
   "metadata": {
    "collapsed": false
   },
   "id": "24dec715d12f0790"
  }
 ],
 "metadata": {
  "kernelspec": {
   "display_name": "Python 3",
   "language": "python",
   "name": "python3"
  },
  "language_info": {
   "codemirror_mode": {
    "name": "ipython",
    "version": 2
   },
   "file_extension": ".py",
   "mimetype": "text/x-python",
   "name": "python",
   "nbconvert_exporter": "python",
   "pygments_lexer": "ipython2",
   "version": "2.7.6"
  }
 },
 "nbformat": 4,
 "nbformat_minor": 5
}
