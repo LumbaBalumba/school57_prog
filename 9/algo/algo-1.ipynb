{
 "cells": [
  {
   "cell_type": "markdown",
   "source": [
    "Чем плох рекурсивный подход?\n",
    "\n",
    "1) Затраты памяти и производительности на обсепечение стэка рекурсии\n",
    "2) Зачастую производятся ненужные вычисления\n",
    "\n",
    "Если мы хотим избежать ненужных вычислений, нам нужно будет где-то хранить результаты нашей работы\n",
    "\n",
    "Тогда мы получаем новый подход - динамическое программирование. Мы будем хранить результаты наших вычислений и использовать их в дальнейшем вместо того чтобы каждый раз считать всё заново. Пример - вычисление n-го числа Фибоначчи"
   ],
   "metadata": {
    "collapsed": false
   },
   "id": "8a8a2bbbae3a843e"
  },
  {
   "cell_type": "code",
   "execution_count": null,
   "id": "initial_id",
   "metadata": {
    "collapsed": true
   },
   "outputs": [],
   "source": [
    "# Рекурсивный метод\n",
    "def fib(n: int) -> int:\n",
    "    if n == 1:\n",
    "        return 0\n",
    "    elif n == 2:\n",
    "        return 1\n",
    "    else:\n",
    "        return fib(n - 1) + fib(n - 2)\n",
    "\n",
    "\n",
    "print(fib(int(input())))"
   ]
  },
  {
   "cell_type": "code",
   "execution_count": null,
   "outputs": [],
   "source": [
    "# Метод динамического программирования\n",
    "n = int(input())\n",
    "L = [0, 1]\n",
    "if n > 2:\n",
    "    for i in range(n - 2):\n",
    "        L.append(L[-1] + L[-2])\n",
    "print(L[-1])"
   ],
   "metadata": {
    "collapsed": false
   },
   "id": "4fa2ee457d1f00e8"
  },
  {
   "cell_type": "markdown",
   "source": [],
   "metadata": {
    "collapsed": false
   },
   "id": "a9d793dd15e09ca4"
  },
  {
   "cell_type": "markdown",
   "source": [
    "Рассмотрим другую задачу:\n",
    "\n",
    "Есть монеты номиналом 1, 3 и 4. На вход подаётся сумма. Задача - вывести минимальное количество монет, необхдимое для размена этой суммы монетами данного номинала."
   ],
   "metadata": {
    "collapsed": false
   },
   "id": "5ad7d7a41b7399dd"
  },
  {
   "cell_type": "code",
   "execution_count": 1,
   "outputs": [
    {
     "name": "stdout",
     "output_type": "stream",
     "text": [
      "3\n"
     ]
    }
   ],
   "source": [
    "# Рекурсивный метод\n",
    "def money(n: int) -> int:\n",
    "    if n == 1 or n == 3 or n == 4:\n",
    "        return 1\n",
    "    elif n == 2:\n",
    "        return 2\n",
    "    else:\n",
    "        return min(money(n - 1), money(n - 3), money(n - 4)) + 1\n",
    "\n",
    "\n",
    "print(money(int(input())))"
   ],
   "metadata": {
    "collapsed": false,
    "ExecuteTime": {
     "end_time": "2023-09-15T08:49:24.186115600Z",
     "start_time": "2023-09-15T08:49:20.232751300Z"
    }
   },
   "id": "4f0cedc734719adf"
  },
  {
   "cell_type": "code",
   "execution_count": 5,
   "outputs": [
    {
     "name": "stdout",
     "output_type": "stream",
     "text": [
      "3\n"
     ]
    }
   ],
   "source": [
    "# Метод динамического программирования\n",
    "n = int(input())\n",
    "L = [1, 2, 1, 1]\n",
    "if n > 4:\n",
    "    for i in range(n - 4):\n",
    "        L.append(min(L[-1], L[-3], L[-4]) + 1)\n",
    "print(L[n - 1])"
   ],
   "metadata": {
    "collapsed": false,
    "ExecuteTime": {
     "end_time": "2023-09-15T08:52:02.814022400Z",
     "start_time": "2023-09-15T08:52:00.024483700Z"
    }
   },
   "id": "f6fdc4ae0d03bc52"
  },
  {
   "cell_type": "code",
   "execution_count": 15,
   "outputs": [
    {
     "name": "stdout",
     "output_type": "stream",
     "text": [
      "3\n",
      "1 3 9 10\n"
     ]
    }
   ],
   "source": [
    "# Рекурсивное решение\n",
    "def calc(n: int) -> list[int]:\n",
    "    if n == 1:\n",
    "        return [1, ]\n",
    "    elif n % 6 == 0:\n",
    "        calc3 = calc(n // 3)\n",
    "        calc2 = calc(n // 2)\n",
    "        calc1 = calc(n - 1)\n",
    "        tmp = sorted([calc1, calc2, calc3], key=len)[0]\n",
    "        tmp.append(n)\n",
    "        return tmp\n",
    "    elif n % 3 == 0:\n",
    "        calc3 = calc(n // 3)\n",
    "        calc1 = calc(n - 1)\n",
    "        tmp = sorted([calc1, calc3], key=len)[0]\n",
    "        tmp.append(n)\n",
    "        return tmp\n",
    "    elif n % 2 == 0:\n",
    "        calc2 = calc(n // 2)\n",
    "        calc1 = calc(n - 1)\n",
    "        tmp = sorted([calc1, calc2], key=len)[0]\n",
    "        tmp.append(n)\n",
    "        return tmp\n",
    "    else:\n",
    "        calc1 = calc(n - 1)\n",
    "        calc1.append(n)\n",
    "        return calc1\n",
    "\n",
    "\n",
    "ans = calc(int(input()))\n",
    "print(len(ans) - 1)\n",
    "print(*ans)"
   ],
   "metadata": {
    "collapsed": false,
    "ExecuteTime": {
     "end_time": "2023-09-15T09:19:10.188941600Z",
     "start_time": "2023-09-15T09:19:07.359210Z"
    }
   },
   "id": "ad0662481c089464"
  },
  {
   "cell_type": "code",
   "execution_count": 13,
   "outputs": [
    {
     "ename": "KeyboardInterrupt",
     "evalue": "",
     "output_type": "error",
     "traceback": [
      "\u001B[1;31m---------------------------------------------------------------------------\u001B[0m",
      "\u001B[1;31mKeyboardInterrupt\u001B[0m                         Traceback (most recent call last)",
      "Cell \u001B[1;32mIn[13], line 19\u001B[0m\n\u001B[0;32m     17\u001B[0m     \u001B[38;5;28;01melif\u001B[39;00m n \u001B[38;5;241m%\u001B[39m \u001B[38;5;241m2\u001B[39m \u001B[38;5;241m==\u001B[39m \u001B[38;5;241m0\u001B[39m \u001B[38;5;129;01mand\u001B[39;00m L[\u001B[38;5;241m-\u001B[39m\u001B[38;5;241m1\u001B[39m] \u001B[38;5;241m==\u001B[39m \u001B[38;5;241m1\u001B[39m \u001B[38;5;241m+\u001B[39m L[(n \u001B[38;5;241m-\u001B[39m \u001B[38;5;241m1\u001B[39m) \u001B[38;5;241m/\u001B[39m\u001B[38;5;241m/\u001B[39m \u001B[38;5;241m2\u001B[39m]:\n\u001B[0;32m     18\u001B[0m         n \u001B[38;5;241m/\u001B[39m\u001B[38;5;241m/\u001B[39m\u001B[38;5;241m=\u001B[39m \u001B[38;5;241m2\u001B[39m\n\u001B[1;32m---> 19\u001B[0m     \u001B[38;5;28;01melif\u001B[39;00m \u001B[43mn\u001B[49m\u001B[43m \u001B[49m\u001B[38;5;241;43m%\u001B[39;49m\u001B[43m \u001B[49m\u001B[38;5;241;43m3\u001B[39;49m \u001B[38;5;241m==\u001B[39m \u001B[38;5;241m0\u001B[39m \u001B[38;5;129;01mand\u001B[39;00m L[\u001B[38;5;241m-\u001B[39m\u001B[38;5;241m1\u001B[39m] \u001B[38;5;241m==\u001B[39m \u001B[38;5;241m1\u001B[39m \u001B[38;5;241m+\u001B[39m L[(n \u001B[38;5;241m-\u001B[39m \u001B[38;5;241m1\u001B[39m) \u001B[38;5;241m/\u001B[39m\u001B[38;5;241m/\u001B[39m \u001B[38;5;241m3\u001B[39m]:\n\u001B[0;32m     20\u001B[0m         n \u001B[38;5;241m/\u001B[39m\u001B[38;5;241m/\u001B[39m\u001B[38;5;241m=\u001B[39m \u001B[38;5;241m3\u001B[39m\n\u001B[0;32m     21\u001B[0m \u001B[38;5;28mprint\u001B[39m(\u001B[38;5;28mlen\u001B[39m(operations))\n",
      "\u001B[1;31mKeyboardInterrupt\u001B[0m: "
     ]
    }
   ],
   "source": [
    "# Динамический подход\n",
    "n = int(input())\n",
    "L = [float('inf'), ] * n\n",
    "L[0] = 0\n",
    "for i in range(1, n):\n",
    "    L[i] = 1 + L[i - 1]\n",
    "    if (i + 1) % 2 == 0:\n",
    "        L[i] = min(L[i], 1 + L[(i + 1) // 2 - 1])\n",
    "    if (i + 1) % 3 == 0:\n",
    "        L[i] = min(L[i], 1 + L[(i + 1) // 3 - 1])\n",
    "operations = []\n",
    "while n > 1:\n",
    "    operations.append(n)\n",
    "    if L[n - 1] == L[n - 2] + 1:\n",
    "        n -= 1\n",
    "    elif n % 2 == 0 and L[n - 1] == 1 + L[(n - 1) // 2]:\n",
    "        n //= 2\n",
    "    elif n % 3 == 0 and L[n - 1] == 1 + L[(n - 1) // 3]:\n",
    "        n //= 3\n",
    "operations.append(1)\n",
    "operations = operations[::-1]\n",
    "print(len(operations))\n",
    "print(*operations)"
   ],
   "metadata": {
    "collapsed": false,
    "ExecuteTime": {
     "end_time": "2023-09-15T09:18:43.527313Z",
     "start_time": "2023-09-15T09:18:35.165072700Z"
    }
   },
   "id": "a7c0a6f964e9595f"
  }
 ],
 "metadata": {
  "kernelspec": {
   "display_name": "Python 3",
   "language": "python",
   "name": "python3"
  },
  "language_info": {
   "codemirror_mode": {
    "name": "ipython",
    "version": 2
   },
   "file_extension": ".py",
   "mimetype": "text/x-python",
   "name": "python",
   "nbconvert_exporter": "python",
   "pygments_lexer": "ipython2",
   "version": "2.7.6"
  }
 },
 "nbformat": 4,
 "nbformat_minor": 5
}
